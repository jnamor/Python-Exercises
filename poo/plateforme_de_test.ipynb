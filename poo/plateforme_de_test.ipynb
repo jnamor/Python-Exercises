{
 "cells": [
  {
   "cell_type": "code",
   "execution_count": 74,
   "metadata": {},
   "outputs": [
    {
     "data": {
      "text/plain": [
       "[[1, 1, 1], [3, 3, 3], [7, 8, 9]]"
      ]
     },
     "execution_count": 74,
     "metadata": {},
     "output_type": "execute_result"
    }
   ],
   "source": [
    "l = [[1, 1, 1], [3, 3, 3], [7, 8, 9]]\n",
    "l"
   ]
  },
  {
   "cell_type": "code",
   "execution_count": 22,
   "metadata": {},
   "outputs": [],
   "source": [
    "# check_horizontal = [j for i in range(3) for j in l[i]]\n",
    "# check_horizontal"
   ]
  },
  {
   "cell_type": "code",
   "execution_count": 21,
   "metadata": {},
   "outputs": [
    {
     "data": {
      "text/plain": [
       "()"
      ]
     },
     "execution_count": 21,
     "metadata": {},
     "output_type": "execute_result"
    }
   ],
   "source": [
    "# from itertools import islice\n",
    "\n",
    "# # Using islice\n",
    "# Inputt = iter(check_horizontal)\n",
    "\n",
    "# # list of length in which we have to split\n",
    "# Output = [list(islice(Inputt, 3)) for i in range(3)]\n",
    "  \n",
    "# # Printing Output\n",
    "# print(\"Initial list is:\", check_horizontal)\n",
    "# print(\"List after splitting\", Output)"
   ]
  },
  {
   "cell_type": "code",
   "execution_count": 23,
   "metadata": {},
   "outputs": [],
   "source": [
    "# check_vertical = [j[i] for i in range(3) for j in l]\n",
    "# check_vertical"
   ]
  },
  {
   "cell_type": "code",
   "execution_count": 24,
   "metadata": {},
   "outputs": [],
   "source": [
    "# # Using islice\n",
    "# Inputt = iter(check_vertical)\n",
    "\n",
    "# # list of length in which we have to split\n",
    "# Output_2 = [list(islice(Inputt, 3)) for i in range(3)]\n",
    "  \n",
    "# # Printing Output\n",
    "# print(\"Initial list is:\", check_vertical)\n",
    "# print(\"List after splitting\", Output_2)"
   ]
  },
  {
   "cell_type": "code",
   "execution_count": 30,
   "metadata": {},
   "outputs": [
    {
     "data": {
      "text/plain": [
       "[[1, 1, 1], [3, 3, 3], [7, 8, 9]]"
      ]
     },
     "execution_count": 30,
     "metadata": {},
     "output_type": "execute_result"
    }
   ],
   "source": [
    "list_horizontal = [[j for j in l[i]] for i in range(3)]\n",
    "list_horizontal"
   ]
  },
  {
   "cell_type": "code",
   "execution_count": 57,
   "metadata": {},
   "outputs": [
    {
     "data": {
      "text/plain": [
       "[[1, 3, 7], [1, 3, 8], [1, 3, 9]]"
      ]
     },
     "execution_count": 57,
     "metadata": {},
     "output_type": "execute_result"
    }
   ],
   "source": [
    "list_vertical = [[j[i] for j in l] for i in range(3)]\n",
    "list_vertical"
   ]
  },
  {
   "cell_type": "code",
   "execution_count": 72,
   "metadata": {},
   "outputs": [
    {
     "data": {
      "text/plain": [
       "[1, 3, 9]"
      ]
     },
     "execution_count": 72,
     "metadata": {},
     "output_type": "execute_result"
    }
   ],
   "source": [
    "list_diagonal = [[list_horizontal[i][i] for i in range(3)], [list_horizontal[::-1][i][i] for i in range(3)]][0][0]\n",
    "list_diagonal"
   ]
  },
  {
   "cell_type": "code",
   "execution_count": 43,
   "metadata": {},
   "outputs": [],
   "source": [
    "def all_same(items):\n",
    "    return all(x == items[0] for x in items)"
   ]
  },
  {
   "cell_type": "code",
   "execution_count": 49,
   "metadata": {},
   "outputs": [
    {
     "data": {
      "text/plain": [
       "False"
      ]
     },
     "execution_count": 49,
     "metadata": {},
     "output_type": "execute_result"
    }
   ],
   "source": [
    "all_same(list_horizontal)"
   ]
  },
  {
   "cell_type": "code",
   "execution_count": 70,
   "metadata": {},
   "outputs": [
    {
     "name": "stdout",
     "output_type": "stream",
     "text": [
      "The player 1 wins\n",
      "The player [] wins\n",
      "The player [] wins\n"
     ]
    }
   ],
   "source": [
    "# Horizontal\n",
    "print(f\"The player {[i for i in list_horizontal if all_same(i)][0][0]} wins\")\n",
    "\n",
    "# Vertical\n",
    "print(f\"The player {[i for i in list_vertical if all_same(i)]} wins\")\n",
    "\n",
    "# Diagonal\n",
    "print(f\"The player {[i for i in list_diagonal if all_same(i)]} wins\")\n"
   ]
  },
  {
   "cell_type": "code",
   "execution_count": 71,
   "metadata": {},
   "outputs": [
    {
     "name": "stdout",
     "output_type": "stream",
     "text": [
      "[[1, 1, 1], [3, 3, 3], [7, 8, 9]]\n",
      "[[1, 3, 7], [1, 3, 8], [1, 3, 9]]\n",
      "[[1, 3, 9], [7, 3, 1]]\n"
     ]
    }
   ],
   "source": [
    "print(list_horizontal)\n",
    "print(list_vertical)\n",
    "print(list_diagonal)"
   ]
  },
  {
   "cell_type": "code",
   "execution_count": null,
   "metadata": {},
   "outputs": [],
   "source": [
    "[[1, 2], [2, 1], [1, 2]]"
   ]
  },
  {
   "cell_type": "code",
   "execution_count": 74,
   "metadata": {},
   "outputs": [
    {
     "data": {
      "text/plain": [
       "[['X', 'X', '-'], ['X', 'X', '-']]"
      ]
     },
     "execution_count": 74,
     "metadata": {},
     "output_type": "execute_result"
    }
   ],
   "source": [
    "a = [['X', 'O', '-'], ['O', 'X', 'X'], ['X', 'O', '-']]\n",
    "b = [[a[i][i] for i in range(3)], [a[::-1][i][i] for i in range(3)]]\n",
    "b\n"
   ]
  },
  {
   "cell_type": "code",
   "execution_count": 75,
   "metadata": {},
   "outputs": [
    {
     "data": {
      "text/plain": [
       "True"
      ]
     },
     "execution_count": 75,
     "metadata": {},
     "output_type": "execute_result"
    }
   ],
   "source": [
    "any(\"-\" in sublist for sublist in b)"
   ]
  },
  {
   "cell_type": "code",
   "execution_count": 80,
   "metadata": {},
   "outputs": [
    {
     "name": "stdout",
     "output_type": "stream",
     "text": [
      "<class 'int'>\n"
     ]
    }
   ],
   "source": [
    "import random\n",
    "a = [11, 12, 13, 21, 22, 23, 31, 32, 33]\n",
    "print(type(random.choice(a)))"
   ]
  },
  {
   "cell_type": "code",
   "execution_count": 94,
   "metadata": {},
   "outputs": [
    {
     "data": {
      "text/plain": [
       "31"
      ]
     },
     "execution_count": 94,
     "metadata": {},
     "output_type": "execute_result"
    }
   ],
   "source": [
    "b = random.choice(a)\n",
    "b"
   ]
  },
  {
   "cell_type": "code",
   "execution_count": 97,
   "metadata": {},
   "outputs": [
    {
     "data": {
      "text/plain": [
       "[1, 1]"
      ]
     },
     "execution_count": 97,
     "metadata": {},
     "output_type": "execute_result"
    }
   ],
   "source": [
    "[int(i) for i in str(random.choice(a))]"
   ]
  },
  {
   "cell_type": "code",
   "execution_count": 92,
   "metadata": {},
   "outputs": [
    {
     "data": {
      "text/plain": [
       "False"
      ]
     },
     "execution_count": 92,
     "metadata": {},
     "output_type": "execute_result"
    }
   ],
   "source": [
    "len(b) == 2"
   ]
  },
  {
   "cell_type": "code",
   "execution_count": 2,
   "metadata": {},
   "outputs": [],
   "source": [
    "for i in str(b):\n",
    "    print(i)"
   ]
  },
  {
   "cell_type": "code",
   "execution_count": 11,
   "metadata": {},
   "outputs": [],
   "source": [
    "a = 4\n",
    "b = 10\n",
    "\n",
    "list_of = [1]\n",
    "\n",
    "if (a or b) in list_of:\n",
    "    print(\"ok\")"
   ]
  },
  {
   "cell_type": "code",
   "execution_count": null,
   "metadata": {},
   "outputs": [],
   "source": []
  }
 ],
 "metadata": {
  "interpreter": {
   "hash": "5fbdf00bc7efa8ed46e0b496ca3c537d6b38b5aa75443e82d362798c1a84baa6"
  },
  "kernelspec": {
   "display_name": "Python 3.8.8 64-bit ('intro-conda': conda)",
   "language": "python",
   "name": "python3"
  },
  "language_info": {
   "codemirror_mode": {
    "name": "ipython",
    "version": 3
   },
   "file_extension": ".py",
   "mimetype": "text/x-python",
   "name": "python",
   "nbconvert_exporter": "python",
   "pygments_lexer": "ipython3",
   "version": "3.8.8"
  },
  "orig_nbformat": 4
 },
 "nbformat": 4,
 "nbformat_minor": 2
}
